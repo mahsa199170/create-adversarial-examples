{
  "nbformat": 4,
  "nbformat_minor": 0,
  "metadata": {
    "colab": {
      "name": "Mahsa_(1)_(1)_(1)_(2) (2).ipynb",
      "provenance": [],
      "collapsed_sections": []
    },
    "kernelspec": {
      "display_name": "Python 3",
      "language": "python",
      "name": "python3"
    },
    "language_info": {
      "codemirror_mode": {
        "name": "ipython",
        "version": 3
      },
      "file_extension": ".py",
      "mimetype": "text/x-python",
      "name": "python",
      "nbconvert_exporter": "python",
      "pygments_lexer": "ipython3",
      "version": "3.8.5"
    },
    "accelerator": "GPU"
  },
  "cells": [
    {
      "cell_type": "code",
      "metadata": {
        "colab": {
          "base_uri": "https://localhost:8080/"
        },
        "id": "qRg3mUqWH6hw",
        "outputId": "6c920884-35b5-4ff3-c20f-90303e5f056c"
      },
      "source": [
        "pip install image_similarity_measures"
      ],
      "execution_count": 1,
      "outputs": [
        {
          "output_type": "stream",
          "text": [
            "Collecting image_similarity_measures\n",
            "  Downloading image_similarity_measures-0.3.5-py3-none-any.whl (9.1 kB)\n",
            "Collecting rasterio\n",
            "  Downloading rasterio-1.2.6-cp37-cp37m-manylinux1_x86_64.whl (19.3 MB)\n",
            "\u001b[K     |████████████████████████████████| 19.3 MB 87.9 MB/s \n",
            "\u001b[?25hRequirement already satisfied: scikit-image in /usr/local/lib/python3.7/dist-packages (from image_similarity_measures) (0.16.2)\n",
            "Requirement already satisfied: numpy in /usr/local/lib/python3.7/dist-packages (from image_similarity_measures) (1.19.5)\n",
            "Requirement already satisfied: opencv-python in /usr/local/lib/python3.7/dist-packages (from image_similarity_measures) (4.1.2.30)\n",
            "Collecting pyfftw\n",
            "  Downloading pyFFTW-0.12.0-cp37-cp37m-manylinux1_x86_64.whl (2.6 MB)\n",
            "\u001b[K     |████████████████████████████████| 2.6 MB 62.9 MB/s \n",
            "\u001b[?25hCollecting phasepack\n",
            "  Downloading phasepack-1.5.tar.gz (15 kB)\n",
            "Requirement already satisfied: setuptools in /usr/local/lib/python3.7/dist-packages (from rasterio->image_similarity_measures) (57.4.0)\n",
            "Collecting snuggs>=1.4.1\n",
            "  Downloading snuggs-1.4.7-py3-none-any.whl (5.4 kB)\n",
            "Collecting click-plugins\n",
            "  Downloading click_plugins-1.1.1-py2.py3-none-any.whl (7.5 kB)\n",
            "Requirement already satisfied: click>=4.0 in /usr/local/lib/python3.7/dist-packages (from rasterio->image_similarity_measures) (7.1.2)\n",
            "Requirement already satisfied: attrs in /usr/local/lib/python3.7/dist-packages (from rasterio->image_similarity_measures) (21.2.0)\n",
            "Requirement already satisfied: certifi in /usr/local/lib/python3.7/dist-packages (from rasterio->image_similarity_measures) (2021.5.30)\n",
            "Collecting cligj>=0.5\n",
            "  Downloading cligj-0.7.2-py3-none-any.whl (7.1 kB)\n",
            "Collecting affine\n",
            "  Downloading affine-2.3.0-py2.py3-none-any.whl (15 kB)\n",
            "Requirement already satisfied: pyparsing>=2.1.6 in /usr/local/lib/python3.7/dist-packages (from snuggs>=1.4.1->rasterio->image_similarity_measures) (2.4.7)\n",
            "Requirement already satisfied: PyWavelets>=0.4.0 in /usr/local/lib/python3.7/dist-packages (from scikit-image->image_similarity_measures) (1.1.1)\n",
            "Requirement already satisfied: scipy>=0.19.0 in /usr/local/lib/python3.7/dist-packages (from scikit-image->image_similarity_measures) (1.4.1)\n",
            "Requirement already satisfied: matplotlib!=3.0.0,>=2.0.0 in /usr/local/lib/python3.7/dist-packages (from scikit-image->image_similarity_measures) (3.2.2)\n",
            "Requirement already satisfied: imageio>=2.3.0 in /usr/local/lib/python3.7/dist-packages (from scikit-image->image_similarity_measures) (2.4.1)\n",
            "Requirement already satisfied: networkx>=2.0 in /usr/local/lib/python3.7/dist-packages (from scikit-image->image_similarity_measures) (2.6.2)\n",
            "Requirement already satisfied: pillow>=4.3.0 in /usr/local/lib/python3.7/dist-packages (from scikit-image->image_similarity_measures) (7.1.2)\n",
            "Requirement already satisfied: python-dateutil>=2.1 in /usr/local/lib/python3.7/dist-packages (from matplotlib!=3.0.0,>=2.0.0->scikit-image->image_similarity_measures) (2.8.2)\n",
            "Requirement already satisfied: cycler>=0.10 in /usr/local/lib/python3.7/dist-packages (from matplotlib!=3.0.0,>=2.0.0->scikit-image->image_similarity_measures) (0.10.0)\n",
            "Requirement already satisfied: kiwisolver>=1.0.1 in /usr/local/lib/python3.7/dist-packages (from matplotlib!=3.0.0,>=2.0.0->scikit-image->image_similarity_measures) (1.3.1)\n",
            "Requirement already satisfied: six in /usr/local/lib/python3.7/dist-packages (from cycler>=0.10->matplotlib!=3.0.0,>=2.0.0->scikit-image->image_similarity_measures) (1.15.0)\n",
            "Building wheels for collected packages: phasepack\n",
            "  Building wheel for phasepack (setup.py) ... \u001b[?25l\u001b[?25hdone\n",
            "  Created wheel for phasepack: filename=phasepack-1.5-py3-none-any.whl size=26983 sha256=eed92a655585717cb9e7fba98487db379ede66883ba16a7aef4d5b59434ff8e2\n",
            "  Stored in directory: /root/.cache/pip/wheels/39/5c/b3/79292d7ac3f088e858805b5515b45cf5a365106397d936caf1\n",
            "Successfully built phasepack\n",
            "Installing collected packages: snuggs, cligj, click-plugins, affine, rasterio, pyfftw, phasepack, image-similarity-measures\n",
            "Successfully installed affine-2.3.0 click-plugins-1.1.1 cligj-0.7.2 image-similarity-measures-0.3.5 phasepack-1.5 pyfftw-0.12.0 rasterio-1.2.6 snuggs-1.4.7\n"
          ],
          "name": "stdout"
        }
      ]
    },
    {
      "cell_type": "code",
      "metadata": {
        "colab": {
          "base_uri": "https://localhost:8080/"
        },
        "id": "cLftInRdtGzk",
        "outputId": "fb6e301a-99b8-4015-d9df-83e73558fcb4"
      },
      "source": [
        "gpu_info = !nvidia-smi\n",
        "gpu_info = '\\n'.join(gpu_info)\n",
        "if gpu_info.find('failed') >= 0:\n",
        "  print('Select the Runtime > \"Change runtime type\" menu to enable a GPU accelerator, ')\n",
        "  print('and then re-execute this cell.')\n",
        "else:\n",
        "  print(gpu_info)"
      ],
      "execution_count": 2,
      "outputs": [
        {
          "output_type": "stream",
          "text": [
            "Mon Aug 16 21:54:35 2021       \n",
            "+-----------------------------------------------------------------------------+\n",
            "| NVIDIA-SMI 470.57.02    Driver Version: 460.32.03    CUDA Version: 11.2     |\n",
            "|-------------------------------+----------------------+----------------------+\n",
            "| GPU  Name        Persistence-M| Bus-Id        Disp.A | Volatile Uncorr. ECC |\n",
            "| Fan  Temp  Perf  Pwr:Usage/Cap|         Memory-Usage | GPU-Util  Compute M. |\n",
            "|                               |                      |               MIG M. |\n",
            "|===============================+======================+======================|\n",
            "|   0  Tesla V100-SXM2...  Off  | 00000000:00:04.0 Off |                    0 |\n",
            "| N/A   42C    P0    24W / 300W |      0MiB / 16160MiB |      0%      Default |\n",
            "|                               |                      |                  N/A |\n",
            "+-------------------------------+----------------------+----------------------+\n",
            "                                                                               \n",
            "+-----------------------------------------------------------------------------+\n",
            "| Processes:                                                                  |\n",
            "|  GPU   GI   CI        PID   Type   Process name                  GPU Memory |\n",
            "|        ID   ID                                                   Usage      |\n",
            "|=============================================================================|\n",
            "|  No running processes found                                                 |\n",
            "+-----------------------------------------------------------------------------+\n"
          ],
          "name": "stdout"
        }
      ]
    },
    {
      "cell_type": "code",
      "metadata": {
        "id": "dyWUwm1y_Cme"
      },
      "source": [
        "from keras.datasets import mnist, cifar10\n",
        "from keras.models import Sequential, load_model\n",
        "from keras.layers.core import Activation\n",
        "import keras\n",
        "import matplotlib\n",
        "import matplotlib.pyplot as plt\n",
        "import numpy as np\n",
        "from keras.utils import np_utils\n",
        "from time import time\n",
        "import cv2\n",
        "import image_similarity_measures\n",
        "from image_similarity_measures.quality_metrics import rmse, ssim, sre, issm, sam, uiq, fsim, psnr\n",
        "from keras.layers import Dense,Dropout,Flatten,Conv2D,MaxPooling2D\n",
        "from keras.constraints import maxnorm\n",
        "from keras.optimizers import SGD\n",
        "from keras import backend as K \n",
        "from keras.layers import BatchNormalization\n",
        "from keras.preprocessing.image import ImageDataGenerator\n",
        "from keras.callbacks import EarlyStopping, ModelCheckpoint\n",
        "\n",
        "np.random.seed(100)"
      ],
      "execution_count": 3,
      "outputs": []
    },
    {
      "cell_type": "code",
      "metadata": {
        "id": "9_ISeP_QSZN1"
      },
      "source": [
        "def preprocess(dataset='mnist'):\n",
        "  if (dataset == 'mnist'):\n",
        "    (X_train, y_train), (X_test, y_test) = mnist.load_data()\n",
        "    X_train = X_train / 255\n",
        "    X_test = X_test / 255\n",
        "    X_train_Flatten = X_train.reshape(len(X_train), X_train[0].shape[0]*X_train[0].shape[1])\n",
        "    X_test_Flatten = X_test.reshape(len(X_test), X_train[0].shape[0]*X_train[0].shape[1])\n",
        "    X_train = X_train.astype('float32')\n",
        "    X_test = X_test.astype('float32')\n",
        "    y_test = np_utils.to_categorical(y_test, 10)\n",
        "    y_train = np_utils.to_categorical(y_train, 10)\n",
        "  else:\n",
        "    (X_train, y_train), (X_test, y_test) = cifar10.load_data()\n",
        "    X_train = X_train / 255\n",
        "    X_test = X_test / 255\n",
        "    X_train_Flatten = X_train.reshape(len(X_train), X_train[0].shape[0]*X_train[0].shape[1]*X_train[0].shape[2])\n",
        "    X_test_Flatten = X_test.reshape(len(X_test), X_train[0].shape[0]*X_train[0].shape[1]*X_train[0].shape[2])\n",
        "    X_train = X_train.astype('float32')\n",
        "    X_test = X_test.astype('float32')\n",
        "    y_test = np_utils.to_categorical(y_test, 10)\n",
        "    y_train = np_utils.to_categorical(y_train, 10)\n",
        "  return (X_train, y_train), (X_test, y_test), (X_train_Flatten, X_test_Flatten)\n"
      ],
      "execution_count": 4,
      "outputs": []
    },
    {
      "cell_type": "code",
      "metadata": {
        "id": "DlUX-36CziCC"
      },
      "source": [
        "def makeAndTrainModel(X_train, y_train, X_test, y_test, X_train_Flatten, X_test_Flatten, architecture, dataset):\n",
        "  model = Sequential()\n",
        "  datagen = ImageDataGenerator(\n",
        "      horizontal_flip = True,\n",
        "      #vertical_flip = True,\n",
        "      width_shift_range=8/32,\n",
        "      height_shift_range=8/32,\n",
        "      fill_mode='nearest',\n",
        "      #zoom_range=[0.60,1.40],\n",
        "      #rotation_range = 90\n",
        "      )\n",
        "  if dataset=='cifar10':\n",
        "    if architecture == 'ANN':\n",
        "      model.add(Flatten()) \n",
        "      model.add(Dense(1000, input_shape = X_test_Flatten[0].shape))\n",
        "      model.add(Activation('relu'))\n",
        "      model.add(BatchNormalization())\n",
        "      model.add(Dropout(0.2))\n",
        "      model.add(Dense(750))\n",
        "      model.add(Activation('relu'))\n",
        "      model.add(BatchNormalization())\n",
        "      model.add(Dropout(0.2))\n",
        "      model.add(Dense(500))\n",
        "      model.add(Activation('relu'))\n",
        "      model.add(BatchNormalization())\n",
        "      model.add(Dropout(0.2))\n",
        "      model.add(Dense(500))\n",
        "      model.add(Activation('relu'))\n",
        "      model.add(BatchNormalization())\n",
        "      model.add(Dropout(0.2))\n",
        "      model.add(Dense(10))\n",
        "      model.add(Activation('softmax'))\n",
        "\n",
        "      opt = keras.optimizers.Adam(learning_rate=0.001)\n",
        "      model.compile(loss='categorical_crossentropy', metrics=['accuracy'], optimizer=opt)\n",
        "\n",
        "\n",
        "      checkpoint_filepath = '/tmp/checkpoint'\n",
        "      model_checkpoint_callback = ModelCheckpoint(\n",
        "          filepath=checkpoint_filepath,\n",
        "          save_weights_only=True,\n",
        "          monitor='val_accuracy',\n",
        "          mode='max',\n",
        "          save_best_only=True)\n",
        "      \n",
        "      history = model.fit(X_train_Flatten, y_train, batch_size = 32, epochs=50, validation_data=(X_test_Flatten, y_test),callbacks=[model_checkpoint_callback])\n",
        "    else: # if cnn\n",
        "      model.add(Conv2D(32, (3, 3), input_shape=(32,32,3), activation='relu', padding='same'))\n",
        "      model.add(BatchNormalization())\n",
        "      model.add(Conv2D(32, (3, 3), activation='relu', padding='same'))\n",
        "      model.add(BatchNormalization())\n",
        "      model.add(MaxPooling2D(pool_size=(2, 2))) \n",
        "      model.add(Dropout(0.3)) \n",
        "      model.add(Conv2D(64, (3, 3), activation='relu', padding='same')) \n",
        "      model.add(BatchNormalization())\n",
        "      model.add(Dropout(0.3)) \n",
        "      model.add(Conv2D(64, (3, 3), activation='relu', padding='same'))\n",
        "      model.add(BatchNormalization())\n",
        "      model.add(MaxPooling2D(pool_size=(2, 2))) \n",
        "      model.add(Dropout(0.3)) \n",
        "      model.add(Conv2D(128, (3, 3), activation='relu', padding='same'))\n",
        "      model.add(BatchNormalization())\n",
        "      model.add(Conv2D(128, (3, 3), activation='relu', padding='same'))\n",
        "      model.add(BatchNormalization()) \n",
        "      model.add(MaxPooling2D(pool_size=(2, 2)))\n",
        "      model.add(Dropout(0.3)) \n",
        "      model.add(Conv2D(128, (3, 3), activation='relu', padding='same'))\n",
        "      model.add(BatchNormalization())\n",
        "      model.add(Flatten()) \n",
        "      model.add(Dropout(0.3)) \n",
        "      model.add(Dense(1024, activation='relu'))\n",
        "      model.add(BatchNormalization())\n",
        "      model.add(Dropout(0.3)) \n",
        "      model.add(Dense(512, activation='relu'))\n",
        "      model.add(BatchNormalization())\n",
        "      model.add(Dropout(0.3)) \n",
        "      model.add(Dense(10, activation='softmax'))\n",
        "\n",
        "      #opt = keras.optimizers.Adam(learning_rate=0.001)\n",
        "      model.compile(loss='categorical_crossentropy', optimizer='adam', metrics=['accuracy'])\n",
        "      \n",
        "      datagen.fit(X_train)\n",
        "\n",
        "      checkpoint_filepath = '/tmp/checkpoint'\n",
        "      model_checkpoint_callback = ModelCheckpoint(\n",
        "          filepath=checkpoint_filepath,\n",
        "          save_weights_only=True,\n",
        "          monitor='val_accuracy',\n",
        "          mode='max',\n",
        "          save_best_only=True)\n",
        "      \n",
        "      history = model.fit(\n",
        "          datagen.flow(X_train, y_train, batch_size=32),\n",
        "          epochs=150,\n",
        "          validation_data=(X_test, y_test), callbacks=[model_checkpoint_callback])\n",
        "      \n",
        "      #history = model.fit(X_train, y_train, validation_data=(X_test, y_test), epochs=20, batch_size=32)\n",
        "  else: #mnist\n",
        "    if architecture == 'ANN':\n",
        "      model.add(Dense(1000, input_shape = X_test_Flatten[0].shape))\n",
        "      model.add(Activation('relu'))\n",
        "      model.add(BatchNormalization())\n",
        "      model.add(Dropout(0.2))\n",
        "      model.add(Dense(750))\n",
        "      model.add(Activation('relu'))\n",
        "      model.add(BatchNormalization())\n",
        "      model.add(Dropout(0.2))\n",
        "      model.add(Dense(500))\n",
        "      model.add(Activation('relu'))\n",
        "      model.add(BatchNormalization())\n",
        "      model.add(Dropout(0.2))\n",
        "      model.add(Dense(500))\n",
        "      model.add(Activation('relu'))\n",
        "      model.add(BatchNormalization())\n",
        "      model.add(Dropout(0.2))\n",
        "      model.add(Dense(10))\n",
        "      model.add(Activation('softmax'))\n",
        "\n",
        "      opt = keras.optimizers.Adam(learning_rate=0.001)\n",
        "      model.compile(loss='categorical_crossentropy', metrics=['accuracy'], optimizer=opt)\n",
        " \n",
        "      history = model.fit(X_train_Flatten, y_train, batch_size = 32, epochs=10, validation_data=(X_test_Flatten, y_test)) \n",
        "\n",
        "    else: #cnn\n",
        "      model.add(Conv2D(128, (3, 3), input_shape=(28,28,1), activation='relu'))\n",
        "      model.add(BatchNormalization())\n",
        "      model.add(MaxPooling2D(pool_size=(2, 2))) \n",
        "      model.add(Dropout(0.2)) \n",
        "      model.add(Conv2D(64, (3, 3), activation='relu')) \n",
        "      model.add(BatchNormalization())\n",
        "      model.add(MaxPooling2D(pool_size=(2, 2))) \n",
        "      model.add(Dropout(0.2))\n",
        "      model.add(Conv2D(32, (3, 3), activation='relu')) \n",
        "      model.add(BatchNormalization())\n",
        "      model.add(MaxPooling2D(pool_size=(2, 2))) \n",
        "      model.add(Dropout(0.2)) \n",
        "\n",
        "      model.add(Flatten()) \n",
        "      model.add(Dense(128, activation='relu'))\n",
        "      model.add(BatchNormalization()) \n",
        "      model.add(Dropout(0.2))\n",
        "      model.add(Dense(64, activation='relu'))\n",
        "      model.add(BatchNormalization()) \n",
        "      model.add(Dropout(0.2))\n",
        "      model.add(Dense(10, activation='softmax'))\n",
        "\n",
        "      #opt = keras.optimizers.Adam(learning_rate=0.001)\n",
        "      model.compile(loss='categorical_crossentropy', optimizer='adam', metrics=['accuracy'])\n",
        "      datagen.fit(X_train.reshape(-1, 28, 28, 1))\n",
        "\n",
        "      checkpoint_filepath = '/tmp/checkpoint'\n",
        "      model_checkpoint_callback = ModelCheckpoint(\n",
        "          filepath=checkpoint_filepath,\n",
        "          save_weights_only=True,\n",
        "          monitor='val_accuracy',\n",
        "          mode='max',\n",
        "          save_best_only=True)\n",
        "      \n",
        "      history = model.fit(X_train.reshape(-1, 28, 28, 1), y_train, validation_data=(X_test.reshape(-1, 28, 28, 1), y_test), epochs=50, batch_size=128, callbacks=[model_checkpoint_callback])\n",
        "\n",
        "  return model, history\n"
      ],
      "execution_count": 58,
      "outputs": []
    },
    {
      "cell_type": "code",
      "metadata": {
        "id": "tF7Jrb_UbvrM",
        "colab": {
          "base_uri": "https://localhost:8080/"
        },
        "outputId": "07a7aa22-3fbb-4c50-e009-d2a8fce0f267"
      },
      "source": [
        "(X_train, y_train), (X_test, y_test), (X_train_Flatten, X_test_Flatten) = preprocess('cifar10')"
      ],
      "execution_count": 6,
      "outputs": [
        {
          "output_type": "stream",
          "text": [
            "Downloading data from https://www.cs.toronto.edu/~kriz/cifar-10-python.tar.gz\n",
            "170500096/170498071 [==============================] - 11s 0us/step\n",
            "170508288/170498071 [==============================] - 11s 0us/step\n"
          ],
          "name": "stdout"
        }
      ]
    },
    {
      "cell_type": "code",
      "metadata": {
        "colab": {
          "base_uri": "https://localhost:8080/"
        },
        "id": "sMUdO3nA1p9G",
        "outputId": "7abeb7e1-f400-4329-de52-076a003769ef"
      },
      "source": [
        "model_cifar_cnn, history_cifar_cnn = makeAndTrainModel(X_train, y_train, X_test, y_test, X_train_Flatten, X_test_Flatten, 'CNN', 'cifar10')"
      ],
      "execution_count": null,
      "outputs": [
        {
          "output_type": "stream",
          "text": [
            "Epoch 1/150\n",
            "1563/1563 [==============================] - 27s 16ms/step - loss: 2.2154 - accuracy: 0.2750 - val_loss: 1.8712 - val_accuracy: 0.3971\n",
            "Epoch 2/150\n",
            "1563/1563 [==============================] - 24s 15ms/step - loss: 1.4958 - accuracy: 0.4652 - val_loss: 1.4290 - val_accuracy: 0.5220\n",
            "Epoch 3/150\n",
            "1563/1563 [==============================] - 24s 15ms/step - loss: 1.2725 - accuracy: 0.5493 - val_loss: 2.0902 - val_accuracy: 0.4061\n",
            "Epoch 4/150\n",
            "1563/1563 [==============================] - 24s 15ms/step - loss: 1.1332 - accuracy: 0.6042 - val_loss: 1.2975 - val_accuracy: 0.5675\n",
            "Epoch 5/150\n",
            "1563/1563 [==============================] - 24s 15ms/step - loss: 1.0070 - accuracy: 0.6509 - val_loss: 0.9388 - val_accuracy: 0.6894\n",
            "Epoch 6/150\n",
            "1563/1563 [==============================] - 24s 15ms/step - loss: 0.9545 - accuracy: 0.6705 - val_loss: 0.8115 - val_accuracy: 0.7227\n",
            "Epoch 7/150\n",
            "1563/1563 [==============================] - 24s 15ms/step - loss: 0.8864 - accuracy: 0.6933 - val_loss: 0.7591 - val_accuracy: 0.7401\n",
            "Epoch 8/150\n",
            "1563/1563 [==============================] - 24s 15ms/step - loss: 0.8487 - accuracy: 0.7088 - val_loss: 0.8150 - val_accuracy: 0.7213\n",
            "Epoch 9/150\n",
            "1563/1563 [==============================] - 24s 15ms/step - loss: 0.8212 - accuracy: 0.7183 - val_loss: 0.6691 - val_accuracy: 0.7654\n",
            "Epoch 10/150\n",
            "1563/1563 [==============================] - 24s 15ms/step - loss: 0.7796 - accuracy: 0.7329 - val_loss: 0.7627 - val_accuracy: 0.7358\n",
            "Epoch 11/150\n",
            "1563/1563 [==============================] - 24s 15ms/step - loss: 0.7670 - accuracy: 0.7375 - val_loss: 0.6865 - val_accuracy: 0.7663\n",
            "Epoch 12/150\n",
            "1563/1563 [==============================] - 24s 15ms/step - loss: 0.7361 - accuracy: 0.7454 - val_loss: 0.6323 - val_accuracy: 0.7849\n",
            "Epoch 13/150\n",
            "1563/1563 [==============================] - 24s 15ms/step - loss: 0.7101 - accuracy: 0.7540 - val_loss: 0.6878 - val_accuracy: 0.7676\n",
            "Epoch 14/150\n",
            "1563/1563 [==============================] - 24s 15ms/step - loss: 0.6990 - accuracy: 0.7611 - val_loss: 0.6193 - val_accuracy: 0.7858\n",
            "Epoch 15/150\n",
            "1563/1563 [==============================] - 24s 15ms/step - loss: 0.6933 - accuracy: 0.7638 - val_loss: 0.7087 - val_accuracy: 0.7613\n",
            "Epoch 16/150\n",
            "1563/1563 [==============================] - 24s 15ms/step - loss: 0.6863 - accuracy: 0.7677 - val_loss: 0.5743 - val_accuracy: 0.8055\n",
            "Epoch 17/150\n",
            "1563/1563 [==============================] - 24s 15ms/step - loss: 0.6549 - accuracy: 0.7757 - val_loss: 0.5618 - val_accuracy: 0.8089\n",
            "Epoch 18/150\n",
            "1563/1563 [==============================] - 24s 15ms/step - loss: 0.6432 - accuracy: 0.7791 - val_loss: 0.5324 - val_accuracy: 0.8164\n",
            "Epoch 19/150\n",
            "1563/1563 [==============================] - 24s 15ms/step - loss: 0.6427 - accuracy: 0.7820 - val_loss: 0.5790 - val_accuracy: 0.8049\n",
            "Epoch 20/150\n",
            "1563/1563 [==============================] - 24s 15ms/step - loss: 0.6411 - accuracy: 0.7815 - val_loss: 0.5362 - val_accuracy: 0.8205\n",
            "Epoch 21/150\n",
            "1563/1563 [==============================] - 24s 15ms/step - loss: 0.6286 - accuracy: 0.7859 - val_loss: 0.5352 - val_accuracy: 0.8157\n",
            "Epoch 22/150\n",
            "1563/1563 [==============================] - 24s 15ms/step - loss: 0.6134 - accuracy: 0.7894 - val_loss: 0.5515 - val_accuracy: 0.8119\n",
            "Epoch 23/150\n",
            "1563/1563 [==============================] - 24s 15ms/step - loss: 0.6094 - accuracy: 0.7907 - val_loss: 0.5071 - val_accuracy: 0.8280\n",
            "Epoch 24/150\n",
            "1563/1563 [==============================] - 24s 15ms/step - loss: 0.5952 - accuracy: 0.7961 - val_loss: 0.5319 - val_accuracy: 0.8206\n",
            "Epoch 25/150\n",
            "1563/1563 [==============================] - 24s 15ms/step - loss: 0.5934 - accuracy: 0.7978 - val_loss: 0.4940 - val_accuracy: 0.8285\n",
            "Epoch 26/150\n",
            "1563/1563 [==============================] - 24s 15ms/step - loss: 0.5741 - accuracy: 0.8033 - val_loss: 0.5381 - val_accuracy: 0.8183\n",
            "Epoch 27/150\n",
            "1563/1563 [==============================] - 24s 15ms/step - loss: 0.5774 - accuracy: 0.7992 - val_loss: 0.4722 - val_accuracy: 0.8340\n",
            "Epoch 28/150\n",
            "1563/1563 [==============================] - 24s 15ms/step - loss: 0.5631 - accuracy: 0.8058 - val_loss: 0.4827 - val_accuracy: 0.8404\n",
            "Epoch 29/150\n",
            "1563/1563 [==============================] - 24s 15ms/step - loss: 0.5637 - accuracy: 0.8056 - val_loss: 0.4950 - val_accuracy: 0.8335\n",
            "Epoch 30/150\n",
            "1563/1563 [==============================] - 24s 15ms/step - loss: 0.5613 - accuracy: 0.8065 - val_loss: 0.4796 - val_accuracy: 0.8361\n",
            "Epoch 31/150\n",
            "1563/1563 [==============================] - 24s 15ms/step - loss: 0.5567 - accuracy: 0.8098 - val_loss: 0.4702 - val_accuracy: 0.8423\n",
            "Epoch 32/150\n",
            "1563/1563 [==============================] - 24s 15ms/step - loss: 0.5501 - accuracy: 0.8106 - val_loss: 0.4590 - val_accuracy: 0.8473\n",
            "Epoch 33/150\n",
            "1563/1563 [==============================] - 24s 15ms/step - loss: 0.5496 - accuracy: 0.8116 - val_loss: 0.4390 - val_accuracy: 0.8513\n",
            "Epoch 34/150\n",
            "1563/1563 [==============================] - 24s 15ms/step - loss: 0.5448 - accuracy: 0.8122 - val_loss: 0.4753 - val_accuracy: 0.8349\n",
            "Epoch 35/150\n",
            "1563/1563 [==============================] - 24s 15ms/step - loss: 0.5412 - accuracy: 0.8145 - val_loss: 0.4087 - val_accuracy: 0.8632\n",
            "Epoch 36/150\n",
            "1563/1563 [==============================] - 24s 15ms/step - loss: 0.5282 - accuracy: 0.8175 - val_loss: 0.4560 - val_accuracy: 0.8449\n",
            "Epoch 37/150\n",
            "1563/1563 [==============================] - 24s 15ms/step - loss: 0.5362 - accuracy: 0.8177 - val_loss: 0.4803 - val_accuracy: 0.8421\n",
            "Epoch 38/150\n",
            "1563/1563 [==============================] - 24s 15ms/step - loss: 0.5230 - accuracy: 0.8231 - val_loss: 0.4122 - val_accuracy: 0.8613\n",
            "Epoch 39/150\n",
            "1563/1563 [==============================] - 24s 15ms/step - loss: 0.5250 - accuracy: 0.8191 - val_loss: 0.5003 - val_accuracy: 0.8307\n",
            "Epoch 40/150\n",
            "1563/1563 [==============================] - 24s 15ms/step - loss: 0.5228 - accuracy: 0.8212 - val_loss: 0.4749 - val_accuracy: 0.8419\n",
            "Epoch 41/150\n",
            "1563/1563 [==============================] - 24s 15ms/step - loss: 0.5088 - accuracy: 0.8278 - val_loss: 0.4592 - val_accuracy: 0.8444\n",
            "Epoch 42/150\n",
            "1563/1563 [==============================] - 24s 15ms/step - loss: 0.5109 - accuracy: 0.8248 - val_loss: 0.4746 - val_accuracy: 0.8374\n",
            "Epoch 43/150\n",
            "1563/1563 [==============================] - 24s 15ms/step - loss: 0.5138 - accuracy: 0.8258 - val_loss: 0.4321 - val_accuracy: 0.8551\n",
            "Epoch 44/150\n",
            "1563/1563 [==============================] - 24s 15ms/step - loss: 0.5041 - accuracy: 0.8269 - val_loss: 0.3793 - val_accuracy: 0.8723\n",
            "Epoch 45/150\n",
            "1563/1563 [==============================] - 24s 15ms/step - loss: 0.5032 - accuracy: 0.8257 - val_loss: 0.3905 - val_accuracy: 0.8636\n",
            "Epoch 46/150\n",
            "1563/1563 [==============================] - 24s 15ms/step - loss: 0.5057 - accuracy: 0.8228 - val_loss: 0.4265 - val_accuracy: 0.8568\n",
            "Epoch 47/150\n",
            "1563/1563 [==============================] - 24s 15ms/step - loss: 0.4933 - accuracy: 0.8309 - val_loss: 0.4911 - val_accuracy: 0.8377\n",
            "Epoch 48/150\n",
            "1563/1563 [==============================] - 24s 15ms/step - loss: 0.4969 - accuracy: 0.8281 - val_loss: 0.4005 - val_accuracy: 0.8638\n",
            "Epoch 49/150\n",
            "1563/1563 [==============================] - 24s 15ms/step - loss: 0.4954 - accuracy: 0.8326 - val_loss: 0.4314 - val_accuracy: 0.8571\n",
            "Epoch 50/150\n",
            "1563/1563 [==============================] - 24s 15ms/step - loss: 0.4912 - accuracy: 0.8304 - val_loss: 0.4166 - val_accuracy: 0.8592\n",
            "Epoch 51/150\n",
            "1563/1563 [==============================] - 24s 15ms/step - loss: 0.4937 - accuracy: 0.8325 - val_loss: 0.4300 - val_accuracy: 0.8577\n",
            "Epoch 52/150\n",
            "1563/1563 [==============================] - 24s 15ms/step - loss: 0.4960 - accuracy: 0.8306 - val_loss: 0.4718 - val_accuracy: 0.8398\n",
            "Epoch 53/150\n",
            "1563/1563 [==============================] - 24s 15ms/step - loss: 0.4811 - accuracy: 0.8355 - val_loss: 0.3777 - val_accuracy: 0.8723\n",
            "Epoch 54/150\n",
            "1563/1563 [==============================] - 24s 15ms/step - loss: 0.4868 - accuracy: 0.8337 - val_loss: 0.4757 - val_accuracy: 0.8435\n",
            "Epoch 55/150\n",
            "1563/1563 [==============================] - 24s 15ms/step - loss: 0.4863 - accuracy: 0.8326 - val_loss: 0.4413 - val_accuracy: 0.8532\n",
            "Epoch 56/150\n",
            "1563/1563 [==============================] - 24s 15ms/step - loss: 0.4805 - accuracy: 0.8361 - val_loss: 0.4112 - val_accuracy: 0.8601\n",
            "Epoch 57/150\n",
            "1563/1563 [==============================] - 24s 15ms/step - loss: 0.4767 - accuracy: 0.8379 - val_loss: 0.4411 - val_accuracy: 0.8514\n",
            "Epoch 58/150\n",
            "1563/1563 [==============================] - 24s 15ms/step - loss: 0.4768 - accuracy: 0.8366 - val_loss: 0.3977 - val_accuracy: 0.8697\n",
            "Epoch 59/150\n",
            "1563/1563 [==============================] - 24s 16ms/step - loss: 0.4786 - accuracy: 0.8333 - val_loss: 0.4230 - val_accuracy: 0.8601\n",
            "Epoch 60/150\n",
            "1563/1563 [==============================] - 24s 15ms/step - loss: 0.4707 - accuracy: 0.8380 - val_loss: 0.3938 - val_accuracy: 0.8652\n",
            "Epoch 61/150\n",
            "1563/1563 [==============================] - 24s 15ms/step - loss: 0.4623 - accuracy: 0.8417 - val_loss: 0.4541 - val_accuracy: 0.8463\n",
            "Epoch 62/150\n",
            "1563/1563 [==============================] - 24s 15ms/step - loss: 0.4669 - accuracy: 0.8412 - val_loss: 0.4376 - val_accuracy: 0.8545\n",
            "Epoch 63/150\n",
            "1563/1563 [==============================] - 24s 15ms/step - loss: 0.4693 - accuracy: 0.8384 - val_loss: 0.4516 - val_accuracy: 0.8534\n",
            "Epoch 64/150\n",
            "1563/1563 [==============================] - 24s 15ms/step - loss: 0.4676 - accuracy: 0.8398 - val_loss: 0.4223 - val_accuracy: 0.8610\n",
            "Epoch 65/150\n",
            "1563/1563 [==============================] - 24s 15ms/step - loss: 0.4587 - accuracy: 0.8456 - val_loss: 0.4177 - val_accuracy: 0.8662\n",
            "Epoch 66/150\n",
            "1563/1563 [==============================] - 24s 15ms/step - loss: 0.4565 - accuracy: 0.8428 - val_loss: 0.4138 - val_accuracy: 0.8643\n",
            "Epoch 67/150\n",
            "1563/1563 [==============================] - 24s 15ms/step - loss: 0.4611 - accuracy: 0.8425 - val_loss: 0.4763 - val_accuracy: 0.8400\n",
            "Epoch 68/150\n",
            "1563/1563 [==============================] - 24s 15ms/step - loss: 0.4537 - accuracy: 0.8466 - val_loss: 0.3794 - val_accuracy: 0.8760\n",
            "Epoch 69/150\n",
            "1563/1563 [==============================] - 24s 15ms/step - loss: 0.4553 - accuracy: 0.8427 - val_loss: 0.4081 - val_accuracy: 0.8622\n",
            "Epoch 70/150\n",
            "1563/1563 [==============================] - 23s 15ms/step - loss: 0.4639 - accuracy: 0.8373 - val_loss: 0.3761 - val_accuracy: 0.8740\n",
            "Epoch 71/150\n",
            "1563/1563 [==============================] - 24s 15ms/step - loss: 0.4527 - accuracy: 0.8432 - val_loss: 0.3663 - val_accuracy: 0.8790\n",
            "Epoch 72/150\n",
            "1563/1563 [==============================] - 24s 15ms/step - loss: 0.4538 - accuracy: 0.8442 - val_loss: 0.3764 - val_accuracy: 0.8756\n",
            "Epoch 73/150\n",
            "1563/1563 [==============================] - 24s 15ms/step - loss: 0.4422 - accuracy: 0.8488 - val_loss: 0.4058 - val_accuracy: 0.8664\n",
            "Epoch 74/150\n",
            "1563/1563 [==============================] - 24s 15ms/step - loss: 0.4459 - accuracy: 0.8444 - val_loss: 0.5238 - val_accuracy: 0.8339\n",
            "Epoch 75/150\n",
            "1563/1563 [==============================] - 24s 15ms/step - loss: 0.4423 - accuracy: 0.8472 - val_loss: 0.4671 - val_accuracy: 0.8482\n",
            "Epoch 76/150\n",
            "1563/1563 [==============================] - 24s 15ms/step - loss: 0.4460 - accuracy: 0.8481 - val_loss: 0.3941 - val_accuracy: 0.8678\n",
            "Epoch 77/150\n",
            "1563/1563 [==============================] - 24s 15ms/step - loss: 0.4487 - accuracy: 0.8444 - val_loss: 0.4558 - val_accuracy: 0.8466\n",
            "Epoch 78/150\n",
            "1563/1563 [==============================] - 24s 15ms/step - loss: 0.4416 - accuracy: 0.8470 - val_loss: 0.4619 - val_accuracy: 0.8450\n",
            "Epoch 79/150\n",
            "1563/1563 [==============================] - 24s 15ms/step - loss: 0.4468 - accuracy: 0.8482 - val_loss: 0.5042 - val_accuracy: 0.8379\n",
            "Epoch 80/150\n",
            "1563/1563 [==============================] - 24s 15ms/step - loss: 0.4409 - accuracy: 0.8475 - val_loss: 0.4097 - val_accuracy: 0.8668\n",
            "Epoch 81/150\n",
            "1563/1563 [==============================] - 24s 15ms/step - loss: 0.4341 - accuracy: 0.8511 - val_loss: 0.4254 - val_accuracy: 0.8619\n",
            "Epoch 82/150\n",
            "1563/1563 [==============================] - 24s 15ms/step - loss: 0.4453 - accuracy: 0.8460 - val_loss: 0.3924 - val_accuracy: 0.8680\n",
            "Epoch 83/150\n",
            "1563/1563 [==============================] - 24s 15ms/step - loss: 0.4354 - accuracy: 0.8494 - val_loss: 0.4000 - val_accuracy: 0.8673\n",
            "Epoch 84/150\n",
            "1563/1563 [==============================] - 24s 15ms/step - loss: 0.4384 - accuracy: 0.8500 - val_loss: 0.3937 - val_accuracy: 0.8648\n",
            "Epoch 85/150\n",
            "1563/1563 [==============================] - 24s 15ms/step - loss: 0.4353 - accuracy: 0.8496 - val_loss: 0.4379 - val_accuracy: 0.8574\n",
            "Epoch 86/150\n",
            "1563/1563 [==============================] - 24s 15ms/step - loss: 0.4302 - accuracy: 0.8530 - val_loss: 0.3854 - val_accuracy: 0.8710\n",
            "Epoch 87/150\n",
            "1563/1563 [==============================] - 24s 15ms/step - loss: 0.4367 - accuracy: 0.8514 - val_loss: 0.3934 - val_accuracy: 0.8711\n",
            "Epoch 88/150\n",
            "1563/1563 [==============================] - 24s 15ms/step - loss: 0.4340 - accuracy: 0.8501 - val_loss: 0.4037 - val_accuracy: 0.8660\n",
            "Epoch 89/150\n",
            "1563/1563 [==============================] - 24s 15ms/step - loss: 0.4312 - accuracy: 0.8518 - val_loss: 0.4729 - val_accuracy: 0.8443\n",
            "Epoch 90/150\n",
            "1563/1563 [==============================] - 24s 15ms/step - loss: 0.4244 - accuracy: 0.8555 - val_loss: 0.4596 - val_accuracy: 0.8507\n",
            "Epoch 91/150\n",
            "1563/1563 [==============================] - 24s 15ms/step - loss: 0.4366 - accuracy: 0.8524 - val_loss: 0.3879 - val_accuracy: 0.8681\n",
            "Epoch 92/150\n",
            "1563/1563 [==============================] - 24s 15ms/step - loss: 0.4288 - accuracy: 0.8536 - val_loss: 0.3924 - val_accuracy: 0.8685\n",
            "Epoch 93/150\n",
            "1563/1563 [==============================] - 24s 15ms/step - loss: 0.4367 - accuracy: 0.8503 - val_loss: 0.3392 - val_accuracy: 0.8869\n",
            "Epoch 94/150\n",
            "1563/1563 [==============================] - 24s 15ms/step - loss: 0.4253 - accuracy: 0.8549 - val_loss: 0.3745 - val_accuracy: 0.8763\n",
            "Epoch 95/150\n",
            "1563/1563 [==============================] - 24s 15ms/step - loss: 0.4130 - accuracy: 0.8600 - val_loss: 0.3468 - val_accuracy: 0.8863\n",
            "Epoch 96/150\n",
            "1563/1563 [==============================] - 24s 15ms/step - loss: 0.4165 - accuracy: 0.8572 - val_loss: 0.3461 - val_accuracy: 0.8838\n",
            "Epoch 97/150\n",
            "1563/1563 [==============================] - 24s 15ms/step - loss: 0.4200 - accuracy: 0.8547 - val_loss: 0.3946 - val_accuracy: 0.8712\n",
            "Epoch 98/150\n",
            "1563/1563 [==============================] - 24s 15ms/step - loss: 0.4254 - accuracy: 0.8532 - val_loss: 0.3876 - val_accuracy: 0.8735\n",
            "Epoch 99/150\n",
            "1563/1563 [==============================] - 24s 15ms/step - loss: 0.4135 - accuracy: 0.8572 - val_loss: 0.3434 - val_accuracy: 0.8863\n",
            "Epoch 100/150\n",
            "1563/1563 [==============================] - 24s 15ms/step - loss: 0.4142 - accuracy: 0.8597 - val_loss: 0.3388 - val_accuracy: 0.8850\n",
            "Epoch 101/150\n",
            "1563/1563 [==============================] - 24s 15ms/step - loss: 0.4170 - accuracy: 0.8564 - val_loss: 0.3908 - val_accuracy: 0.8702\n",
            "Epoch 102/150\n",
            "1563/1563 [==============================] - 24s 15ms/step - loss: 0.4236 - accuracy: 0.8542 - val_loss: 0.3561 - val_accuracy: 0.8828\n",
            "Epoch 103/150\n",
            "1563/1563 [==============================] - 24s 15ms/step - loss: 0.4149 - accuracy: 0.8564 - val_loss: 0.3721 - val_accuracy: 0.8733\n",
            "Epoch 104/150\n",
            "1563/1563 [==============================] - 24s 15ms/step - loss: 0.4202 - accuracy: 0.8574 - val_loss: 0.4240 - val_accuracy: 0.8615\n",
            "Epoch 105/150\n",
            "1563/1563 [==============================] - 24s 15ms/step - loss: 0.4094 - accuracy: 0.8580 - val_loss: 0.3746 - val_accuracy: 0.8776\n",
            "Epoch 106/150\n",
            "1563/1563 [==============================] - 24s 15ms/step - loss: 0.4116 - accuracy: 0.8588 - val_loss: 0.3606 - val_accuracy: 0.8798\n",
            "Epoch 107/150\n",
            "1563/1563 [==============================] - 24s 15ms/step - loss: 0.4109 - accuracy: 0.8587 - val_loss: 0.3633 - val_accuracy: 0.8788\n",
            "Epoch 108/150\n",
            "1563/1563 [==============================] - 24s 15ms/step - loss: 0.4102 - accuracy: 0.8574 - val_loss: 0.3690 - val_accuracy: 0.8832\n",
            "Epoch 109/150\n",
            "1563/1563 [==============================] - 24s 15ms/step - loss: 0.4041 - accuracy: 0.8633 - val_loss: 0.3801 - val_accuracy: 0.8766\n",
            "Epoch 110/150\n",
            "1563/1563 [==============================] - 24s 15ms/step - loss: 0.4065 - accuracy: 0.8603 - val_loss: 0.3547 - val_accuracy: 0.8824\n",
            "Epoch 111/150\n",
            "1563/1563 [==============================] - 24s 15ms/step - loss: 0.4151 - accuracy: 0.8570 - val_loss: 0.3883 - val_accuracy: 0.8728\n",
            "Epoch 112/150\n",
            "1563/1563 [==============================] - 24s 15ms/step - loss: 0.4042 - accuracy: 0.8590 - val_loss: 0.4071 - val_accuracy: 0.8677\n",
            "Epoch 113/150\n",
            "1563/1563 [==============================] - 24s 15ms/step - loss: 0.4026 - accuracy: 0.8616 - val_loss: 0.3444 - val_accuracy: 0.8848\n",
            "Epoch 114/150\n",
            "1563/1563 [==============================] - 24s 15ms/step - loss: 0.4090 - accuracy: 0.8607 - val_loss: 0.3703 - val_accuracy: 0.8780\n",
            "Epoch 115/150\n",
            "1563/1563 [==============================] - 24s 15ms/step - loss: 0.4078 - accuracy: 0.8600 - val_loss: 0.3763 - val_accuracy: 0.8776\n",
            "Epoch 116/150\n",
            "1563/1563 [==============================] - 24s 15ms/step - loss: 0.4025 - accuracy: 0.8622 - val_loss: 0.3592 - val_accuracy: 0.8824\n",
            "Epoch 117/150\n",
            "1563/1563 [==============================] - 24s 15ms/step - loss: 0.4010 - accuracy: 0.8612 - val_loss: 0.3817 - val_accuracy: 0.8722\n",
            "Epoch 118/150\n",
            "1563/1563 [==============================] - 24s 15ms/step - loss: 0.4211 - accuracy: 0.8550 - val_loss: 0.3632 - val_accuracy: 0.8817\n",
            "Epoch 119/150\n",
            "1563/1563 [==============================] - 25s 16ms/step - loss: 0.4022 - accuracy: 0.8621 - val_loss: 0.3289 - val_accuracy: 0.8904\n",
            "Epoch 120/150\n",
            "1563/1563 [==============================] - 24s 16ms/step - loss: 0.4000 - accuracy: 0.8648 - val_loss: 0.3673 - val_accuracy: 0.8792\n",
            "Epoch 121/150\n",
            "1563/1563 [==============================] - 24s 15ms/step - loss: 0.4050 - accuracy: 0.8585 - val_loss: 0.3663 - val_accuracy: 0.8796\n",
            "Epoch 122/150\n",
            "1563/1563 [==============================] - 24s 15ms/step - loss: 0.3981 - accuracy: 0.8629 - val_loss: 0.3433 - val_accuracy: 0.8877\n",
            "Epoch 123/150\n",
            "1563/1563 [==============================] - 24s 15ms/step - loss: 0.3917 - accuracy: 0.8668 - val_loss: 0.4221 - val_accuracy: 0.8660\n",
            "Epoch 124/150\n",
            "1563/1563 [==============================] - 24s 15ms/step - loss: 0.4032 - accuracy: 0.8632 - val_loss: 0.3489 - val_accuracy: 0.8854\n",
            "Epoch 125/150\n",
            "1563/1563 [==============================] - 24s 15ms/step - loss: 0.3944 - accuracy: 0.8655 - val_loss: 0.3596 - val_accuracy: 0.8790\n",
            "Epoch 126/150\n",
            "1563/1563 [==============================] - 24s 15ms/step - loss: 0.3989 - accuracy: 0.8628 - val_loss: 0.3689 - val_accuracy: 0.8775\n",
            "Epoch 127/150\n",
            "1563/1563 [==============================] - 24s 15ms/step - loss: 0.3997 - accuracy: 0.8640 - val_loss: 0.3985 - val_accuracy: 0.8716\n",
            "Epoch 128/150\n",
            "1563/1563 [==============================] - 24s 15ms/step - loss: 0.3922 - accuracy: 0.8659 - val_loss: 0.3741 - val_accuracy: 0.8787\n",
            "Epoch 129/150\n",
            "1563/1563 [==============================] - 24s 15ms/step - loss: 0.3933 - accuracy: 0.8645 - val_loss: 0.4009 - val_accuracy: 0.8705\n",
            "Epoch 130/150\n",
            "1563/1563 [==============================] - 24s 16ms/step - loss: 0.3961 - accuracy: 0.8625 - val_loss: 0.3879 - val_accuracy: 0.8753\n",
            "Epoch 131/150\n",
            "1563/1563 [==============================] - 24s 15ms/step - loss: 0.3953 - accuracy: 0.8612 - val_loss: 0.3388 - val_accuracy: 0.8877\n",
            "Epoch 132/150\n",
            "1563/1563 [==============================] - 24s 15ms/step - loss: 0.3875 - accuracy: 0.8667 - val_loss: 0.3642 - val_accuracy: 0.8775\n",
            "Epoch 133/150\n",
            "1563/1563 [==============================] - 24s 15ms/step - loss: 0.3978 - accuracy: 0.8612 - val_loss: 0.4000 - val_accuracy: 0.8682\n",
            "Epoch 134/150\n",
            "1563/1563 [==============================] - 24s 15ms/step - loss: 0.3865 - accuracy: 0.8669 - val_loss: 0.3312 - val_accuracy: 0.8933\n",
            "Epoch 135/150\n",
            "1563/1563 [==============================] - 24s 15ms/step - loss: 0.3891 - accuracy: 0.8655 - val_loss: 0.3819 - val_accuracy: 0.8781\n",
            "Epoch 136/150\n",
            "1563/1563 [==============================] - 24s 16ms/step - loss: 0.3854 - accuracy: 0.8668 - val_loss: 0.3530 - val_accuracy: 0.8840\n",
            "Epoch 137/150\n",
            "1563/1563 [==============================] - 24s 15ms/step - loss: 0.3904 - accuracy: 0.8654 - val_loss: 0.3849 - val_accuracy: 0.8731\n",
            "Epoch 138/150\n",
            "1563/1563 [==============================] - 24s 15ms/step - loss: 0.3937 - accuracy: 0.8637 - val_loss: 0.3557 - val_accuracy: 0.8836\n",
            "Epoch 139/150\n",
            "1563/1563 [==============================] - 24s 15ms/step - loss: 0.3827 - accuracy: 0.8677 - val_loss: 0.3752 - val_accuracy: 0.8745\n",
            "Epoch 140/150\n",
            "1563/1563 [==============================] - 24s 15ms/step - loss: 0.3906 - accuracy: 0.8673 - val_loss: 0.3778 - val_accuracy: 0.8755\n",
            "Epoch 141/150\n",
            "1563/1563 [==============================] - 24s 16ms/step - loss: 0.3857 - accuracy: 0.8666 - val_loss: 0.3422 - val_accuracy: 0.8881\n",
            "Epoch 142/150\n",
            "1563/1563 [==============================] - 24s 15ms/step - loss: 0.3853 - accuracy: 0.8678 - val_loss: 0.3684 - val_accuracy: 0.8797\n",
            "Epoch 143/150\n",
            "1563/1563 [==============================] - 24s 15ms/step - loss: 0.3924 - accuracy: 0.8659 - val_loss: 0.3444 - val_accuracy: 0.8888\n",
            "Epoch 144/150\n",
            "1563/1563 [==============================] - 24s 15ms/step - loss: 0.3893 - accuracy: 0.8657 - val_loss: 0.3349 - val_accuracy: 0.8881\n",
            "Epoch 145/150\n",
            "1563/1563 [==============================] - 24s 15ms/step - loss: 0.3861 - accuracy: 0.8680 - val_loss: 0.3481 - val_accuracy: 0.8900\n",
            "Epoch 146/150\n",
            "1563/1563 [==============================] - 24s 15ms/step - loss: 0.3850 - accuracy: 0.8658 - val_loss: 0.3857 - val_accuracy: 0.8773\n",
            "Epoch 147/150\n",
            "1563/1563 [==============================] - 24s 16ms/step - loss: 0.3782 - accuracy: 0.8677 - val_loss: 0.3257 - val_accuracy: 0.8954\n",
            "Epoch 148/150\n",
            "1563/1563 [==============================] - 24s 15ms/step - loss: 0.3810 - accuracy: 0.8692 - val_loss: 0.3642 - val_accuracy: 0.8852\n",
            "Epoch 149/150\n",
            "1563/1563 [==============================] - 24s 15ms/step - loss: 0.3843 - accuracy: 0.8686 - val_loss: 0.3610 - val_accuracy: 0.8813\n",
            "Epoch 150/150\n",
            "1563/1563 [==============================] - 24s 15ms/step - loss: 0.3795 - accuracy: 0.8691 - val_loss: 0.3879 - val_accuracy: 0.8785\n"
          ],
          "name": "stdout"
        }
      ]
    },
    {
      "cell_type": "code",
      "metadata": {
        "id": "EGD3ETtSWRir"
      },
      "source": [
        "model_cifar_cnn.save('model_cifar_cnn.h5')"
      ],
      "execution_count": null,
      "outputs": []
    },
    {
      "cell_type": "code",
      "metadata": {
        "id": "cdjTAJhE5CZ7",
        "colab": {
          "base_uri": "https://localhost:8080/",
          "height": 297
        },
        "outputId": "05681105-60d4-47fe-f361-4e8f644e7cab"
      },
      "source": [
        "fig = plt.figure()\n",
        "plt.subplot(2,1,1)\n",
        "plt.plot(history_cifar_cnn.history['loss'])\n",
        "plt.plot(history_cifar_cnn.history[\"val_loss\"])\n",
        "plt.legend(['train', 'test'], loc='lower right')\n",
        "\n",
        "plt.subplot(2,1,2)\n",
        "plt.plot(history_cifar_cnn.history['accuracy'])\n",
        "plt.plot(history_cifar_cnn.history[\"val_accuracy\"])\n",
        "plt.legend(['train', 'test'], loc='lower right')\n",
        "\n",
        "plt.tight_layout()"
      ],
      "execution_count": null,
      "outputs": [
        {
          "output_type": "display_data",
          "data": {
            "image/png": "[encoded data removed]",
            "text/plain": [
              "<Figure size 432x288 with 2 Axes>"
            ]
          },
          "metadata": {
            "tags": [],
            "needs_background": "light"
          }
        }
      ]
    },
    {
      "cell_type": "code",
      "metadata": {
        "id": "5v9D13BRUYqZ",
        "colab": {
          "base_uri": "https://localhost:8080/"
        },
        "outputId": "d41ff6c6-370e-4dd4-c5d5-a9399867327c"
      },
      "source": [
        "model_cifar_ann, history_cifar_ann = makeAndTrainModel(X_train, y_train, X_test, y_test, X_train_Flatten, X_test_Flatten, 'ANN', 'cifar10')"
      ],
      "execution_count": 7,
      "outputs": [
        {
          "output_type": "stream",
          "text": [
            "Epoch 1/50\n",
            "1563/1563 [==============================] - 36s 7ms/step - loss: 2.1766 - accuracy: 0.2733 - val_loss: 1.8745 - val_accuracy: 0.3478\n",
            "Epoch 2/50\n",
            "1563/1563 [==============================] - 10s 6ms/step - loss: 1.7597 - accuracy: 0.3723 - val_loss: 1.7413 - val_accuracy: 0.3831\n",
            "Epoch 3/50\n",
            "1563/1563 [==============================] - 9s 6ms/step - loss: 1.6821 - accuracy: 0.4015 - val_loss: 1.6368 - val_accuracy: 0.4292\n",
            "Epoch 4/50\n",
            "1563/1563 [==============================] - 9s 6ms/step - loss: 1.6278 - accuracy: 0.4167 - val_loss: 1.5785 - val_accuracy: 0.4292\n",
            "Epoch 5/50\n",
            "1563/1563 [==============================] - 10s 6ms/step - loss: 1.6034 - accuracy: 0.4269 - val_loss: 1.5477 - val_accuracy: 0.4434\n",
            "Epoch 6/50\n",
            "1563/1563 [==============================] - 9s 6ms/step - loss: 1.5690 - accuracy: 0.4409 - val_loss: 1.5176 - val_accuracy: 0.4577\n",
            "Epoch 7/50\n",
            "1563/1563 [==============================] - 9s 6ms/step - loss: 1.5514 - accuracy: 0.4414 - val_loss: 1.5524 - val_accuracy: 0.4468\n",
            "Epoch 8/50\n",
            "1563/1563 [==============================] - 9s 6ms/step - loss: 1.5349 - accuracy: 0.4507 - val_loss: 1.5986 - val_accuracy: 0.4364\n",
            "Epoch 9/50\n",
            "1563/1563 [==============================] - 10s 6ms/step - loss: 1.5178 - accuracy: 0.4601 - val_loss: 1.5151 - val_accuracy: 0.4588\n",
            "Epoch 10/50\n",
            "1563/1563 [==============================] - 9s 6ms/step - loss: 1.4850 - accuracy: 0.4697 - val_loss: 1.4472 - val_accuracy: 0.4881\n",
            "Epoch 11/50\n",
            "1563/1563 [==============================] - 9s 6ms/step - loss: 1.4737 - accuracy: 0.4752 - val_loss: 1.4213 - val_accuracy: 0.4915\n",
            "Epoch 12/50\n",
            "1563/1563 [==============================] - 10s 6ms/step - loss: 1.4485 - accuracy: 0.4826 - val_loss: 1.4702 - val_accuracy: 0.4717\n",
            "Epoch 13/50\n",
            "1563/1563 [==============================] - 9s 6ms/step - loss: 1.4531 - accuracy: 0.4808 - val_loss: 1.4373 - val_accuracy: 0.4887\n",
            "Epoch 14/50\n",
            "1563/1563 [==============================] - 10s 6ms/step - loss: 1.4481 - accuracy: 0.4811 - val_loss: 1.4928 - val_accuracy: 0.4781\n",
            "Epoch 15/50\n",
            "1563/1563 [==============================] - 9s 6ms/step - loss: 1.4222 - accuracy: 0.4901 - val_loss: 1.5088 - val_accuracy: 0.4721\n",
            "Epoch 16/50\n",
            "1563/1563 [==============================] - 9s 6ms/step - loss: 1.4189 - accuracy: 0.4960 - val_loss: 1.3978 - val_accuracy: 0.5030\n",
            "Epoch 17/50\n",
            "1563/1563 [==============================] - 9s 6ms/step - loss: 1.4296 - accuracy: 0.4875 - val_loss: 1.5417 - val_accuracy: 0.4496\n",
            "Epoch 18/50\n",
            "1563/1563 [==============================] - 10s 6ms/step - loss: 1.4144 - accuracy: 0.4926 - val_loss: 1.3822 - val_accuracy: 0.5071\n",
            "Epoch 19/50\n",
            "1563/1563 [==============================] - 10s 6ms/step - loss: 1.4031 - accuracy: 0.5009 - val_loss: 1.3712 - val_accuracy: 0.5189\n",
            "Epoch 20/50\n",
            "1563/1563 [==============================] - 9s 6ms/step - loss: 1.3907 - accuracy: 0.5073 - val_loss: 1.4067 - val_accuracy: 0.4957\n",
            "Epoch 21/50\n",
            "1563/1563 [==============================] - 10s 6ms/step - loss: 1.3899 - accuracy: 0.5030 - val_loss: 1.3851 - val_accuracy: 0.5082\n",
            "Epoch 22/50\n",
            "1563/1563 [==============================] - 9s 6ms/step - loss: 1.3694 - accuracy: 0.5141 - val_loss: 1.3564 - val_accuracy: 0.5186\n",
            "Epoch 23/50\n",
            "1563/1563 [==============================] - 10s 6ms/step - loss: 1.3772 - accuracy: 0.5101 - val_loss: 1.3705 - val_accuracy: 0.5156\n",
            "Epoch 24/50\n",
            "1563/1563 [==============================] - 10s 6ms/step - loss: 1.3693 - accuracy: 0.5127 - val_loss: 1.3632 - val_accuracy: 0.5199\n",
            "Epoch 25/50\n",
            "1563/1563 [==============================] - 10s 6ms/step - loss: 1.3643 - accuracy: 0.5182 - val_loss: 1.3391 - val_accuracy: 0.5258\n",
            "Epoch 26/50\n",
            "1563/1563 [==============================] - 9s 6ms/step - loss: 1.3659 - accuracy: 0.5157 - val_loss: 1.4238 - val_accuracy: 0.4955\n",
            "Epoch 27/50\n",
            "1563/1563 [==============================] - 9s 6ms/step - loss: 1.3580 - accuracy: 0.5158 - val_loss: 1.4173 - val_accuracy: 0.4889\n",
            "Epoch 28/50\n",
            "1563/1563 [==============================] - 9s 6ms/step - loss: 1.3295 - accuracy: 0.5289 - val_loss: 1.3761 - val_accuracy: 0.5125\n",
            "Epoch 29/50\n",
            "1563/1563 [==============================] - 9s 6ms/step - loss: 1.3322 - accuracy: 0.5224 - val_loss: 1.3346 - val_accuracy: 0.5251\n",
            "Epoch 30/50\n",
            "1563/1563 [==============================] - 10s 6ms/step - loss: 1.3578 - accuracy: 0.5184 - val_loss: 1.3774 - val_accuracy: 0.5055\n",
            "Epoch 31/50\n",
            "1563/1563 [==============================] - 10s 6ms/step - loss: 1.3367 - accuracy: 0.5228 - val_loss: 1.3275 - val_accuracy: 0.5275\n",
            "Epoch 32/50\n",
            "1563/1563 [==============================] - 10s 6ms/step - loss: 1.3277 - accuracy: 0.5251 - val_loss: 1.3136 - val_accuracy: 0.5312\n",
            "Epoch 33/50\n",
            "1563/1563 [==============================] - 9s 6ms/step - loss: 1.3176 - accuracy: 0.5284 - val_loss: 1.3288 - val_accuracy: 0.5268\n",
            "Epoch 34/50\n",
            "1563/1563 [==============================] - 10s 6ms/step - loss: 1.3136 - accuracy: 0.5306 - val_loss: 1.3354 - val_accuracy: 0.5295\n",
            "Epoch 35/50\n",
            "1563/1563 [==============================] - 10s 6ms/step - loss: 1.3186 - accuracy: 0.5310 - val_loss: 1.3785 - val_accuracy: 0.5245\n",
            "Epoch 36/50\n",
            "1563/1563 [==============================] - 10s 6ms/step - loss: 1.3126 - accuracy: 0.5327 - val_loss: 1.4147 - val_accuracy: 0.5025\n",
            "Epoch 37/50\n",
            "1563/1563 [==============================] - 9s 6ms/step - loss: 1.3178 - accuracy: 0.5306 - val_loss: 1.3697 - val_accuracy: 0.5136\n",
            "Epoch 38/50\n",
            "1563/1563 [==============================] - 10s 6ms/step - loss: 1.3118 - accuracy: 0.5329 - val_loss: 1.3448 - val_accuracy: 0.5292\n",
            "Epoch 39/50\n",
            "1563/1563 [==============================] - 9s 6ms/step - loss: 1.3121 - accuracy: 0.5327 - val_loss: 1.3233 - val_accuracy: 0.5354\n",
            "Epoch 40/50\n",
            "1563/1563 [==============================] - 9s 6ms/step - loss: 1.3037 - accuracy: 0.5342 - val_loss: 1.3256 - val_accuracy: 0.5319\n",
            "Epoch 41/50\n",
            "1563/1563 [==============================] - 10s 6ms/step - loss: 1.2979 - accuracy: 0.5364 - val_loss: 1.3240 - val_accuracy: 0.5305\n",
            "Epoch 42/50\n",
            "1563/1563 [==============================] - 9s 6ms/step - loss: 1.2932 - accuracy: 0.5398 - val_loss: 1.3674 - val_accuracy: 0.5233\n",
            "Epoch 43/50\n",
            "1563/1563 [==============================] - 9s 6ms/step - loss: 1.2918 - accuracy: 0.5383 - val_loss: 1.3295 - val_accuracy: 0.5323\n",
            "Epoch 44/50\n",
            "1563/1563 [==============================] - 9s 6ms/step - loss: 1.2879 - accuracy: 0.5404 - val_loss: 1.3218 - val_accuracy: 0.5359\n",
            "Epoch 45/50\n",
            "1563/1563 [==============================] - 10s 6ms/step - loss: 1.2914 - accuracy: 0.5380 - val_loss: 1.3565 - val_accuracy: 0.5182\n",
            "Epoch 46/50\n",
            "1563/1563 [==============================] - 10s 6ms/step - loss: 1.2852 - accuracy: 0.5419 - val_loss: 1.3861 - val_accuracy: 0.5143\n",
            "Epoch 47/50\n",
            "1563/1563 [==============================] - 9s 6ms/step - loss: 1.2809 - accuracy: 0.5420 - val_loss: 1.3231 - val_accuracy: 0.5287\n",
            "Epoch 48/50\n",
            "1563/1563 [==============================] - 10s 6ms/step - loss: 1.2710 - accuracy: 0.5498 - val_loss: 1.3046 - val_accuracy: 0.5373\n",
            "Epoch 49/50\n",
            "1563/1563 [==============================] - 9s 6ms/step - loss: 1.2741 - accuracy: 0.5438 - val_loss: 1.3576 - val_accuracy: 0.5215\n",
            "Epoch 50/50\n",
            "1563/1563 [==============================] - 9s 6ms/step - loss: 1.2672 - accuracy: 0.5480 - val_loss: 1.3149 - val_accuracy: 0.5368\n"
          ],
          "name": "stdout"
        }
      ]
    },
    {
      "cell_type": "code",
      "metadata": {
        "id": "y5_7j1qnWZG0"
      },
      "source": [
        "model_cifar_ann.save('model_cifar_ann (3).h5')"
      ],
      "execution_count": 8,
      "outputs": []
    },
    {
      "cell_type": "code",
      "metadata": {
        "colab": {
          "base_uri": "https://localhost:8080/"
        },
        "id": "xQYUFDwfdo3H",
        "outputId": "8922eb2d-9bb9-48c8-8531-42f209d06dc2"
      },
      "source": [
        "model_cifar_ann.predict(X_test_Flatten[0].reshape(-1, 3072))"
      ],
      "execution_count": 31,
      "outputs": [
        {
          "output_type": "execute_result",
          "data": {
            "text/plain": [
              "array([[0.01151147, 0.01375371, 0.01977648, 0.37340686, 0.2599521 ,\n",
              "        0.13441654, 0.01718115, 0.00678583, 0.15268993, 0.01052593]],\n",
              "      dtype=float32)"
            ]
          },
          "metadata": {
            "tags": []
          },
          "execution_count": 31
        }
      ]
    },
    {
      "cell_type": "code",
      "metadata": {
        "id": "nWeNXyT9UYzD",
        "colab": {
          "base_uri": "https://localhost:8080/",
          "height": 297
        },
        "outputId": "1ec01a62-e095-4ef1-8c31-9537783c4bb4"
      },
      "source": [
        "fig = plt.figure()\n",
        "plt.subplot(2,1,1)\n",
        "plt.plot(history_cifar_ann.history['loss'])\n",
        "plt.plot(history_cifar_ann.history[\"val_loss\"])\n",
        "plt.legend(['train', 'test'], loc='lower right')\n",
        "\n",
        "plt.subplot(2,1,2)\n",
        "plt.plot(history_cifar_ann.history['accuracy'])\n",
        "plt.plot(history_cifar_ann.history[\"val_accuracy\"])\n",
        "plt.legend(['train', 'test'], loc='lower right')\n",
        "\n",
        "plt.tight_layout()"
      ],
      "execution_count": 32,
      "outputs": [
        {
          "output_type": "display_data",
          "data": {
            "image/png": "[encoded data removed]",
            "text/plain": [
              "<Figure size 432x288 with 2 Axes>"
            ]
          },
          "metadata": {
            "tags": [],
            "needs_background": "light"
          }
        }
      ]
    },
    {
      "cell_type": "code",
      "metadata": {
        "id": "50WjrNulTDe0"
      },
      "source": [
        "(X_train, y_train), (X_test, y_test), (X_train_Flatten, X_test_Flatten) = preprocess('mnist')"
      ],
      "execution_count": null,
      "outputs": []
    },
    {
      "cell_type": "code",
      "metadata": {
        "colab": {
          "base_uri": "https://localhost:8080/"
        },
        "id": "JUXB4GIlC2Ni",
        "outputId": "bb4d0cf6-bba3-4f27-a313-da47b9625d7a"
      },
      "source": [
        "model_mnist_cnn, history_mnist_cnn = makeAndTrainModel(X_train, y_train, X_test, y_test, X_train_Flatten, X_test_Flatten, 'CNN', 'mnist')"
      ],
      "execution_count": null,
      "outputs": [
        {
          "output_type": "stream",
          "text": [
            "Epoch 1/50\n",
            "469/469 [==============================] - 6s 10ms/step - loss: 0.9305 - accuracy: 0.7039 - val_loss: 2.0259 - val_accuracy: 0.2963\n",
            "Epoch 2/50\n",
            "469/469 [==============================] - 4s 8ms/step - loss: 0.1619 - accuracy: 0.9499 - val_loss: 0.0645 - val_accuracy: 0.9814\n",
            "Epoch 3/50\n",
            "469/469 [==============================] - 4s 8ms/step - loss: 0.1183 - accuracy: 0.9645 - val_loss: 0.0542 - val_accuracy: 0.9831\n",
            "Epoch 4/50\n",
            "469/469 [==============================] - 4s 8ms/step - loss: 0.0919 - accuracy: 0.9735 - val_loss: 0.0631 - val_accuracy: 0.9797\n",
            "Epoch 5/50\n",
            "469/469 [==============================] - 4s 8ms/step - loss: 0.0797 - accuracy: 0.9772 - val_loss: 0.0500 - val_accuracy: 0.9869\n",
            "Epoch 6/50\n",
            "469/469 [==============================] - 4s 8ms/step - loss: 0.0772 - accuracy: 0.9769 - val_loss: 0.0447 - val_accuracy: 0.9875\n",
            "Epoch 7/50\n",
            "469/469 [==============================] - 4s 8ms/step - loss: 0.0691 - accuracy: 0.9796 - val_loss: 0.0451 - val_accuracy: 0.9883\n",
            "Epoch 8/50\n",
            "469/469 [==============================] - 4s 8ms/step - loss: 0.0647 - accuracy: 0.9803 - val_loss: 0.0404 - val_accuracy: 0.9888\n",
            "Epoch 9/50\n",
            "469/469 [==============================] - 4s 8ms/step - loss: 0.0568 - accuracy: 0.9834 - val_loss: 0.0398 - val_accuracy: 0.9897\n",
            "Epoch 10/50\n",
            "469/469 [==============================] - 4s 8ms/step - loss: 0.0563 - accuracy: 0.9837 - val_loss: 0.0411 - val_accuracy: 0.9883\n",
            "Epoch 11/50\n",
            "469/469 [==============================] - 4s 8ms/step - loss: 0.0547 - accuracy: 0.9835 - val_loss: 0.0366 - val_accuracy: 0.9899\n",
            "Epoch 12/50\n",
            "469/469 [==============================] - 4s 8ms/step - loss: 0.0509 - accuracy: 0.9850 - val_loss: 0.0380 - val_accuracy: 0.9895\n",
            "Epoch 13/50\n",
            "469/469 [==============================] - 4s 8ms/step - loss: 0.0479 - accuracy: 0.9855 - val_loss: 0.0463 - val_accuracy: 0.9877\n",
            "Epoch 14/50\n",
            "469/469 [==============================] - 4s 8ms/step - loss: 0.0495 - accuracy: 0.9862 - val_loss: 0.0389 - val_accuracy: 0.9894\n",
            "Epoch 15/50\n",
            "469/469 [==============================] - 4s 8ms/step - loss: 0.0448 - accuracy: 0.9870 - val_loss: 0.0405 - val_accuracy: 0.9897\n",
            "Epoch 16/50\n",
            "469/469 [==============================] - 4s 8ms/step - loss: 0.0435 - accuracy: 0.9870 - val_loss: 0.0388 - val_accuracy: 0.9891\n",
            "Epoch 17/50\n",
            "469/469 [==============================] - 4s 8ms/step - loss: 0.0404 - accuracy: 0.9872 - val_loss: 0.0336 - val_accuracy: 0.9917\n",
            "Epoch 18/50\n",
            "469/469 [==============================] - 4s 8ms/step - loss: 0.0418 - accuracy: 0.9873 - val_loss: 0.0426 - val_accuracy: 0.9891\n",
            "Epoch 19/50\n",
            "469/469 [==============================] - 4s 8ms/step - loss: 0.0339 - accuracy: 0.9895 - val_loss: 0.0373 - val_accuracy: 0.9898\n",
            "Epoch 20/50\n",
            "469/469 [==============================] - 4s 8ms/step - loss: 0.0396 - accuracy: 0.9885 - val_loss: 0.0411 - val_accuracy: 0.9895\n",
            "Epoch 21/50\n",
            "469/469 [==============================] - 4s 8ms/step - loss: 0.0336 - accuracy: 0.9893 - val_loss: 0.0375 - val_accuracy: 0.9899\n",
            "Epoch 22/50\n",
            "469/469 [==============================] - 4s 8ms/step - loss: 0.0342 - accuracy: 0.9895 - val_loss: 0.0367 - val_accuracy: 0.9901\n",
            "Epoch 23/50\n",
            "469/469 [==============================] - 4s 8ms/step - loss: 0.0324 - accuracy: 0.9899 - val_loss: 0.0347 - val_accuracy: 0.9910\n",
            "Epoch 24/50\n",
            "469/469 [==============================] - 4s 8ms/step - loss: 0.0328 - accuracy: 0.9899 - val_loss: 0.0409 - val_accuracy: 0.9906\n",
            "Epoch 25/50\n",
            "469/469 [==============================] - 4s 8ms/step - loss: 0.0328 - accuracy: 0.9904 - val_loss: 0.0402 - val_accuracy: 0.9901\n",
            "Epoch 26/50\n",
            "469/469 [==============================] - 4s 8ms/step - loss: 0.0302 - accuracy: 0.9912 - val_loss: 0.0380 - val_accuracy: 0.9903\n",
            "Epoch 27/50\n",
            "469/469 [==============================] - 4s 8ms/step - loss: 0.0320 - accuracy: 0.9895 - val_loss: 0.0458 - val_accuracy: 0.9888\n",
            "Epoch 28/50\n",
            "469/469 [==============================] - 4s 8ms/step - loss: 0.0296 - accuracy: 0.9903 - val_loss: 0.0370 - val_accuracy: 0.9907\n",
            "Epoch 29/50\n",
            "469/469 [==============================] - 4s 8ms/step - loss: 0.0261 - accuracy: 0.9915 - val_loss: 0.0415 - val_accuracy: 0.9898\n",
            "Epoch 30/50\n",
            "469/469 [==============================] - 4s 8ms/step - loss: 0.0254 - accuracy: 0.9919 - val_loss: 0.0363 - val_accuracy: 0.9908\n",
            "Epoch 31/50\n",
            "469/469 [==============================] - 4s 8ms/step - loss: 0.0302 - accuracy: 0.9906 - val_loss: 0.0361 - val_accuracy: 0.9907\n",
            "Epoch 32/50\n",
            "469/469 [==============================] - 4s 8ms/step - loss: 0.0274 - accuracy: 0.9915 - val_loss: 0.0367 - val_accuracy: 0.9912\n",
            "Epoch 33/50\n",
            "469/469 [==============================] - 4s 8ms/step - loss: 0.0276 - accuracy: 0.9916 - val_loss: 0.0349 - val_accuracy: 0.9916\n",
            "Epoch 34/50\n",
            "469/469 [==============================] - 4s 8ms/step - loss: 0.0270 - accuracy: 0.9913 - val_loss: 0.0329 - val_accuracy: 0.9917\n",
            "Epoch 35/50\n",
            "469/469 [==============================] - 4s 8ms/step - loss: 0.0290 - accuracy: 0.9915 - val_loss: 0.0344 - val_accuracy: 0.9908\n",
            "Epoch 36/50\n",
            "469/469 [==============================] - 4s 8ms/step - loss: 0.0285 - accuracy: 0.9911 - val_loss: 0.0379 - val_accuracy: 0.9905\n",
            "Epoch 37/50\n",
            "469/469 [==============================] - 4s 8ms/step - loss: 0.0246 - accuracy: 0.9929 - val_loss: 0.0351 - val_accuracy: 0.9910\n",
            "Epoch 38/50\n",
            "469/469 [==============================] - 4s 8ms/step - loss: 0.0262 - accuracy: 0.9921 - val_loss: 0.0352 - val_accuracy: 0.9914\n",
            "Epoch 39/50\n",
            "469/469 [==============================] - 4s 8ms/step - loss: 0.0246 - accuracy: 0.9924 - val_loss: 0.0373 - val_accuracy: 0.9913\n",
            "Epoch 40/50\n",
            "469/469 [==============================] - 4s 8ms/step - loss: 0.0248 - accuracy: 0.9929 - val_loss: 0.0382 - val_accuracy: 0.9893\n",
            "Epoch 41/50\n",
            "469/469 [==============================] - 4s 8ms/step - loss: 0.0257 - accuracy: 0.9920 - val_loss: 0.0393 - val_accuracy: 0.9901\n",
            "Epoch 42/50\n",
            "469/469 [==============================] - 4s 8ms/step - loss: 0.0256 - accuracy: 0.9925 - val_loss: 0.0338 - val_accuracy: 0.9930\n",
            "Epoch 43/50\n",
            "469/469 [==============================] - 4s 8ms/step - loss: 0.0235 - accuracy: 0.9926 - val_loss: 0.0313 - val_accuracy: 0.9925\n",
            "Epoch 44/50\n",
            "469/469 [==============================] - 4s 8ms/step - loss: 0.0206 - accuracy: 0.9932 - val_loss: 0.0359 - val_accuracy: 0.9917\n",
            "Epoch 45/50\n",
            "469/469 [==============================] - 4s 8ms/step - loss: 0.0227 - accuracy: 0.9931 - val_loss: 0.0379 - val_accuracy: 0.9913\n",
            "Epoch 46/50\n",
            "469/469 [==============================] - 4s 8ms/step - loss: 0.0216 - accuracy: 0.9930 - val_loss: 0.0335 - val_accuracy: 0.9918\n",
            "Epoch 47/50\n",
            "469/469 [==============================] - 4s 8ms/step - loss: 0.0206 - accuracy: 0.9932 - val_loss: 0.0348 - val_accuracy: 0.9922\n",
            "Epoch 48/50\n",
            "469/469 [==============================] - 4s 8ms/step - loss: 0.0225 - accuracy: 0.9930 - val_loss: 0.0382 - val_accuracy: 0.9917\n",
            "Epoch 49/50\n",
            "469/469 [==============================] - 4s 8ms/step - loss: 0.0198 - accuracy: 0.9943 - val_loss: 0.0374 - val_accuracy: 0.9916\n",
            "Epoch 50/50\n",
            "469/469 [==============================] - 4s 8ms/step - loss: 0.0191 - accuracy: 0.9939 - val_loss: 0.0418 - val_accuracy: 0.9911\n"
          ],
          "name": "stdout"
        }
      ]
    },
    {
      "cell_type": "code",
      "metadata": {
        "id": "psU4gWzaWdca"
      },
      "source": [
        "model_mnist_cnn.save('model_mnist_cnn.h5')"
      ],
      "execution_count": null,
      "outputs": []
    },
    {
      "cell_type": "code",
      "metadata": {
        "id": "zpENGtUSYyKY",
        "colab": {
          "base_uri": "https://localhost:8080/",
          "height": 297
        },
        "outputId": "62a24463-911a-4c5e-b10d-b20b6609d3c8"
      },
      "source": [
        "fig = plt.figure()\n",
        "plt.subplot(2,1,1)\n",
        "plt.plot(history_mnist_cnn.history['loss'])\n",
        "plt.plot(history_mnist_cnn.history[\"val_loss\"])\n",
        "plt.legend(['train', 'test'], loc='lower right')\n",
        "\n",
        "plt.subplot(2,1,2)\n",
        "plt.plot(history_mnist_cnn.history['accuracy'])\n",
        "plt.plot(history_mnist_cnn.history[\"val_accuracy\"])\n",
        "plt.legend(['train', 'test'], loc='lower right')\n",
        "\n",
        "plt.tight_layout()"
      ],
      "execution_count": null,
      "outputs": [
        {
          "output_type": "display_data",
          "data": {
            "image/png": "[encoded data removed]",
            "text/plain": [
              "<Figure size 432x288 with 2 Axes>"
            ]
          },
          "metadata": {
            "tags": [],
            "needs_background": "light"
          }
        }
      ]
    },
    {
      "cell_type": "code",
      "metadata": {
        "id": "KxXYRbhUUUj7",
        "colab": {
          "base_uri": "https://localhost:8080/"
        },
        "outputId": "36894f49-3cb5-46b3-db28-4106f57603f4"
      },
      "source": [
        "model_mnist_ann, history_mnist_ann = makeAndTrainModel(X_train, y_train, X_test, y_test, X_train_Flatten, X_test_Flatten, 'ANN', 'mnist')"
      ],
      "execution_count": 59,
      "outputs": [
        {
          "output_type": "stream",
          "text": [
            "Epoch 1/10\n",
            "1875/1875 [==============================] - 10s 4ms/step - loss: 0.4232 - accuracy: 0.8748 - val_loss: 0.1274 - val_accuracy: 0.9606\n",
            "Epoch 2/10\n",
            "1875/1875 [==============================] - 8s 4ms/step - loss: 0.1702 - accuracy: 0.9483 - val_loss: 0.1143 - val_accuracy: 0.9643\n",
            "Epoch 3/10\n",
            "1875/1875 [==============================] - 8s 4ms/step - loss: 0.1408 - accuracy: 0.9562 - val_loss: 0.1010 - val_accuracy: 0.9689\n",
            "Epoch 4/10\n",
            "1875/1875 [==============================] - 8s 4ms/step - loss: 0.1181 - accuracy: 0.9633 - val_loss: 0.0774 - val_accuracy: 0.9763\n",
            "Epoch 5/10\n",
            "1875/1875 [==============================] - 8s 4ms/step - loss: 0.1006 - accuracy: 0.9684 - val_loss: 0.0753 - val_accuracy: 0.9779\n",
            "Epoch 6/10\n",
            "1875/1875 [==============================] - 8s 4ms/step - loss: 0.0902 - accuracy: 0.9720 - val_loss: 0.0736 - val_accuracy: 0.9766\n",
            "Epoch 7/10\n",
            "1875/1875 [==============================] - 8s 4ms/step - loss: 0.0769 - accuracy: 0.9749 - val_loss: 0.0622 - val_accuracy: 0.9818\n",
            "Epoch 8/10\n",
            "1875/1875 [==============================] - 8s 4ms/step - loss: 0.0698 - accuracy: 0.9772 - val_loss: 0.0620 - val_accuracy: 0.9820\n",
            "Epoch 9/10\n",
            "1875/1875 [==============================] - 8s 5ms/step - loss: 0.0602 - accuracy: 0.9810 - val_loss: 0.0633 - val_accuracy: 0.9807\n",
            "Epoch 10/10\n",
            "1875/1875 [==============================] - 8s 4ms/step - loss: 0.0557 - accuracy: 0.9820 - val_loss: 0.0586 - val_accuracy: 0.9834\n"
          ],
          "name": "stdout"
        }
      ]
    },
    {
      "cell_type": "code",
      "metadata": {
        "id": "okkYwH64Wl7A"
      },
      "source": [
        "model_mnist_ann.save('model_mnist_ann.h5')"
      ],
      "execution_count": 60,
      "outputs": []
    },
    {
      "cell_type": "code",
      "metadata": {
        "colab": {
          "base_uri": "https://localhost:8080/"
        },
        "id": "66cEjMjLRHIC",
        "outputId": "efa9e23a-ae7e-46d6-fa3a-703836c90d27"
      },
      "source": [
        "model_mnist_ann.predict(X_test_Flatten[0].reshape(-1, 784))"
      ],
      "execution_count": 62,
      "outputs": [
        {
          "output_type": "execute_result",
          "data": {
            "text/plain": [
              "array([[5.3674341e-07, 6.2194572e-06, 6.9336522e-07, 2.3320265e-05,\n",
              "        3.6651606e-06, 5.0722242e-06, 1.1911899e-06, 9.9994695e-01,\n",
              "        2.9472112e-06, 9.4763709e-06]], dtype=float32)"
            ]
          },
          "metadata": {
            "tags": []
          },
          "execution_count": 62
        }
      ]
    },
    {
      "cell_type": "code",
      "metadata": {
        "id": "6vPdQ1MwUUmt",
        "colab": {
          "base_uri": "https://localhost:8080/",
          "height": 297
        },
        "outputId": "ecd23b73-4dc6-4905-fa07-a1929072c78e"
      },
      "source": [
        "fig = plt.figure()\n",
        "plt.subplot(2,1,1)\n",
        "plt.plot(history_mnist_ann.history['loss'])\n",
        "plt.plot(history_mnist_ann.history[\"val_loss\"])\n",
        "plt.legend(['train', 'test'], loc='lower right')\n",
        "\n",
        "plt.subplot(2,1,2)\n",
        "plt.plot(history_mnist_ann.history['accuracy'])\n",
        "plt.plot(history_mnist_ann.history[\"val_accuracy\"])\n",
        "plt.legend(['train', 'test'], loc='lower right')\n",
        "\n",
        "plt.tight_layout()"
      ],
      "execution_count": 52,
      "outputs": [
        {
          "output_type": "display_data",
          "data": {
            "image/png": "[encoded data removed]",
            "text/plain": [
              "<Figure size 432x288 with 2 Axes>"
            ]
          },
          "metadata": {
            "tags": [],
            "needs_background": "light"
          }
        }
      ]
    }
  ]
}